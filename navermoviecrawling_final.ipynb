{
 "cells": [
  {
   "cell_type": "markdown",
   "id": "ae94de49",
   "metadata": {},
   "source": [
    "## 네이버 영화 페이지 크롤링\n",
    "### 네이버 영화에 등록된 데이터 수집\n",
    "- 제목, 평점, 장르, 감독, 배우, 개봉일, 상영시간 수집\n",
    "- 각 요소 중 하나라도 없으면 크롤링 대상에서 제외\n",
    "    - 영화 정보 제공의 필요성으로, 결측값 대체 없이 모든 요소가 존재할 때만 크롤링"
   ]
  },
  {
   "cell_type": "code",
   "execution_count": 1,
   "id": "95cfe51c",
   "metadata": {},
   "outputs": [],
   "source": [
    "from selenium import webdriver\n",
    "from bs4 import BeautifulSoup\n",
    "import re\n",
    "import pandas as pd"
   ]
  },
  {
   "cell_type": "code",
   "execution_count": 2,
   "id": "77743879",
   "metadata": {},
   "outputs": [],
   "source": [
    "browser = webdriver.Chrome('./chromedriver.exe')"
   ]
  },
  {
   "cell_type": "code",
   "execution_count": 3,
   "id": "523c2892",
   "metadata": {},
   "outputs": [
    {
     "name": "stdout",
     "output_type": "stream",
     "text": [
      "184432 Page not found\n",
      "184434 Page not found\n",
      "184507 Page not found\n",
      "184510 Page not found\n"
     ]
    },
    {
     "data": {
      "text/plain": [
       "8"
      ]
     },
     "execution_count": 3,
     "metadata": {},
     "output_type": "execute_result"
    }
   ],
   "source": [
    "url = \"https://movie.naver.com/movie/bi/mi/basic.nhn?code=\"\n",
    "# uri = f\"https://youtube-rank.com/board/bbs/board.php?bo_table=youtube&page={page}\" \n",
    "\n",
    "navermovies = []\n",
    "\n",
    "# 크롤링하고자 하는 페이지 : 숫자 6자리\n",
    "for page in range(184316,184567):\n",
    "    try:       \n",
    "        target = url+str(page)\n",
    "#         print(target)\n",
    "        browser.get(target)\n",
    "        html = browser.page_source\n",
    "        soup = BeautifulSoup(html, 'html.parser')\n",
    "        contents = soup.select(\"div.article\")\n",
    "        content = contents[0]\n",
    "        \n",
    "        # 영화 제목\n",
    "        title = content.select_one(\"h3.h_movie>a\")\n",
    "        \n",
    "        # 평점\n",
    "        score = content.select_one(\"div.main_score div.score a div.star_score span.st_off span.st_on\")\n",
    "        non_score = \"관람객 평점 없음\"\n",
    "        if (score == None) or (non_score in score.text):\n",
    "            continue\n",
    "        score = score.text\n",
    "        score = score[6:11]\n",
    "\n",
    "        # 장르\n",
    "        genre = content.select(\"dl.info_spec dd p span:nth-of-type(1) a\")\n",
    "\n",
    "        # 감독\n",
    "        directors = content.select(\"dl.info_spec dd:nth-of-type(2) a\")\n",
    "\n",
    "        # 배우 \n",
    "        actors = content.select(\"dl.info_spec dd:nth-of-type(3) a\")\n",
    "\n",
    "        # 영화 개봉일\n",
    "        rdate = content.select(\"dl.info_spec dd p span:nth-of-type(4):nth-child(n+3):nth-child(-n+4)\")\n",
    "\n",
    "        # 상영시간\n",
    "        rtime = content.select_one(\"dl.info_spec dd p span:nth-of-type(3)\")\n",
    "\n",
    "        genre_list = [g.text for g in genre]\n",
    "        directors_list = [d.text for d in directors]\n",
    "        actors_list = [a.text for a in actors]\n",
    "        rdate_list = [r.text for r in rdate]\n",
    "        \n",
    "        # 출연배우 다수일 때\n",
    "        if '더보기' in actors_list :\n",
    "            actors_list.remove('더보기')\n",
    "\n",
    "        genre_str = ','.join(genre_list)\n",
    "        directors_str = ','.join(directors_list)\n",
    "        actors_str = ','.join(actors_list)\n",
    "        rdate_str = ','.join(rdate_list)\n",
    "\n",
    "        # 개봉일 전처리\n",
    "        rdate_str = re.sub('[\\s]', '', rdate_str)\n",
    "        rdate_str = re.sub('개봉', '', rdate_str)\n",
    "        if ',' in rdate_str :\n",
    "            rdate_str = rdate_str.split(',')[1]\n",
    "            \n",
    "        # 최종 리스트 삽입\n",
    "        navermovies.append([title.text.strip(), score.strip(), genre_str, directors_str, actors_str, rdate_str, rtime.text.strip()])\n",
    "        \n",
    "    except :\n",
    "        print(page,\"Page not found\")\n",
    "        #네이버에서 영화가 등록되지 않은 page number 확인 가능\n",
    "        \n",
    "len(navermovies)"
   ]
  },
  {
   "cell_type": "code",
   "execution_count": 6,
   "id": "020ffd85",
   "metadata": {},
   "outputs": [
    {
     "data": {
      "text/plain": [
       "[['블랙 위도우',\n",
       "  '9.09',\n",
       "  '액션,모험,SF',\n",
       "  '케이트 쇼트랜드',\n",
       "  '스칼릿 조핸슨,플로렌스 퓨,레이첼 와이즈',\n",
       "  '2021.07.07',\n",
       "  '134분'],\n",
       " ['전주에서 길을 묻다', '10.0', '드라마', '진승현', '강양은,조성희,최수경', '2021.06.01', '91분'],\n",
       " ['마치다군의 세계',\n",
       "  '9.00',\n",
       "  '멜로/로맨스',\n",
       "  '이시이 유야',\n",
       "  '호소다 카나타,세키미즈 나기사',\n",
       "  '2020.11.12',\n",
       "  '120분'],\n",
       " ['아담스 패밀리',\n",
       "  '8.44',\n",
       "  '애니메이션,코미디,가족',\n",
       "  '그렉 티어난,콘래드 버논',\n",
       "  '샤를리즈 테론,클로이 모레츠,오스카 아이삭',\n",
       "  '2019.11.07',\n",
       "  '87분'],\n",
       " ['아무도 없는 곳', '8.14', '드라마', '김종관', '연우진,김상호,아이유', '2021.03.31', '83분']]"
      ]
     },
     "execution_count": 6,
     "metadata": {},
     "output_type": "execute_result"
    }
   ],
   "source": [
    "# 리스트 형태 예제\n",
    "navermovies[:5]"
   ]
  },
  {
   "cell_type": "code",
   "execution_count": 7,
   "id": "a46ba02f",
   "metadata": {},
   "outputs": [],
   "source": [
    "# 데이터프레임 형태로 저장\n",
    "naver_data = pd.DataFrame(navermovies, columns = ['제목','관람객평점','장르', '감독', '출연배우', '개봉일','상영시간'])"
   ]
  },
  {
   "cell_type": "code",
   "execution_count": 8,
   "id": "9339da09",
   "metadata": {},
   "outputs": [
    {
     "data": {
      "text/html": [
       "<div>\n",
       "<style scoped>\n",
       "    .dataframe tbody tr th:only-of-type {\n",
       "        vertical-align: middle;\n",
       "    }\n",
       "\n",
       "    .dataframe tbody tr th {\n",
       "        vertical-align: top;\n",
       "    }\n",
       "\n",
       "    .dataframe thead th {\n",
       "        text-align: right;\n",
       "    }\n",
       "</style>\n",
       "<table border=\"1\" class=\"dataframe\">\n",
       "  <thead>\n",
       "    <tr style=\"text-align: right;\">\n",
       "      <th></th>\n",
       "      <th>제목</th>\n",
       "      <th>관람객평점</th>\n",
       "      <th>장르</th>\n",
       "      <th>감독</th>\n",
       "      <th>출연배우</th>\n",
       "      <th>개봉일</th>\n",
       "      <th>상영시간</th>\n",
       "    </tr>\n",
       "  </thead>\n",
       "  <tbody>\n",
       "    <tr>\n",
       "      <th>0</th>\n",
       "      <td>블랙 위도우</td>\n",
       "      <td>9.09</td>\n",
       "      <td>액션,모험,SF</td>\n",
       "      <td>케이트 쇼트랜드</td>\n",
       "      <td>스칼릿 조핸슨,플로렌스 퓨,레이첼 와이즈</td>\n",
       "      <td>2021.07.07</td>\n",
       "      <td>134분</td>\n",
       "    </tr>\n",
       "    <tr>\n",
       "      <th>1</th>\n",
       "      <td>전주에서 길을 묻다</td>\n",
       "      <td>10.0</td>\n",
       "      <td>드라마</td>\n",
       "      <td>진승현</td>\n",
       "      <td>강양은,조성희,최수경</td>\n",
       "      <td>2021.06.01</td>\n",
       "      <td>91분</td>\n",
       "    </tr>\n",
       "    <tr>\n",
       "      <th>2</th>\n",
       "      <td>마치다군의 세계</td>\n",
       "      <td>9.00</td>\n",
       "      <td>멜로/로맨스</td>\n",
       "      <td>이시이 유야</td>\n",
       "      <td>호소다 카나타,세키미즈 나기사</td>\n",
       "      <td>2020.11.12</td>\n",
       "      <td>120분</td>\n",
       "    </tr>\n",
       "    <tr>\n",
       "      <th>3</th>\n",
       "      <td>아담스 패밀리</td>\n",
       "      <td>8.44</td>\n",
       "      <td>애니메이션,코미디,가족</td>\n",
       "      <td>그렉 티어난,콘래드 버논</td>\n",
       "      <td>샤를리즈 테론,클로이 모레츠,오스카 아이삭</td>\n",
       "      <td>2019.11.07</td>\n",
       "      <td>87분</td>\n",
       "    </tr>\n",
       "    <tr>\n",
       "      <th>4</th>\n",
       "      <td>아무도 없는 곳</td>\n",
       "      <td>8.14</td>\n",
       "      <td>드라마</td>\n",
       "      <td>김종관</td>\n",
       "      <td>연우진,김상호,아이유</td>\n",
       "      <td>2021.03.31</td>\n",
       "      <td>83분</td>\n",
       "    </tr>\n",
       "    <tr>\n",
       "      <th>5</th>\n",
       "      <td>쓰리 세컨즈</td>\n",
       "      <td>9.80</td>\n",
       "      <td>드라마</td>\n",
       "      <td>안톤 메게르디체브</td>\n",
       "      <td>블라디미르 마쉬코프,키릴 자이체프,이반 코레스니코프</td>\n",
       "      <td>2019.06.20</td>\n",
       "      <td>133분</td>\n",
       "    </tr>\n",
       "    <tr>\n",
       "      <th>6</th>\n",
       "      <td>소울</td>\n",
       "      <td>9.32</td>\n",
       "      <td>애니메이션</td>\n",
       "      <td>피트 닥터</td>\n",
       "      <td>제이미 폭스,티나 페이,다비드 딕스</td>\n",
       "      <td>2021.01.20</td>\n",
       "      <td>107분</td>\n",
       "    </tr>\n",
       "    <tr>\n",
       "      <th>7</th>\n",
       "      <td>라야와 마지막 드래곤</td>\n",
       "      <td>9.44</td>\n",
       "      <td>애니메이션,액션,모험</td>\n",
       "      <td>돈 홀,까를로스 로페즈 에스트라다</td>\n",
       "      <td>켈리 마리 트란,아콰피나,산드라 오</td>\n",
       "      <td>2021.03.04</td>\n",
       "      <td>114분</td>\n",
       "    </tr>\n",
       "  </tbody>\n",
       "</table>\n",
       "</div>"
      ],
      "text/plain": [
       "            제목 관람객평점            장르                  감독  \\\n",
       "0       블랙 위도우  9.09      액션,모험,SF            케이트 쇼트랜드   \n",
       "1   전주에서 길을 묻다  10.0           드라마                 진승현   \n",
       "2     마치다군의 세계  9.00        멜로/로맨스              이시이 유야   \n",
       "3      아담스 패밀리  8.44  애니메이션,코미디,가족       그렉 티어난,콘래드 버논   \n",
       "4     아무도 없는 곳  8.14           드라마                 김종관   \n",
       "5       쓰리 세컨즈  9.80           드라마           안톤 메게르디체브   \n",
       "6           소울  9.32         애니메이션               피트 닥터   \n",
       "7  라야와 마지막 드래곤  9.44   애니메이션,액션,모험  돈 홀,까를로스 로페즈 에스트라다   \n",
       "\n",
       "                           출연배우         개봉일  상영시간  \n",
       "0        스칼릿 조핸슨,플로렌스 퓨,레이첼 와이즈  2021.07.07  134분  \n",
       "1                   강양은,조성희,최수경  2021.06.01   91분  \n",
       "2              호소다 카나타,세키미즈 나기사  2020.11.12  120분  \n",
       "3       샤를리즈 테론,클로이 모레츠,오스카 아이삭  2019.11.07   87분  \n",
       "4                   연우진,김상호,아이유  2021.03.31   83분  \n",
       "5  블라디미르 마쉬코프,키릴 자이체프,이반 코레스니코프  2019.06.20  133분  \n",
       "6           제이미 폭스,티나 페이,다비드 딕스  2021.01.20  107분  \n",
       "7           켈리 마리 트란,아콰피나,산드라 오  2021.03.04  114분  "
      ]
     },
     "execution_count": 8,
     "metadata": {},
     "output_type": "execute_result"
    }
   ],
   "source": [
    "# 저장되는 형식 예시\n",
    "naver_data"
   ]
  },
  {
   "cell_type": "code",
   "execution_count": 18,
   "id": "8709d2df",
   "metadata": {},
   "outputs": [
    {
     "name": "stderr",
     "output_type": "stream",
     "text": [
      "<ipython-input-18-a83d9815b8d0>:1: FutureWarning: As the xlwt package is no longer maintained, the xlwt engine will be removed in a future version of pandas. This is the only engine in pandas that supports writing in the xls format. Install openpyxl and write to an xlsx file instead. You can set the option io.excel.xls.writer to 'xlwt' to silence this warning. While this option is deprecated and will also raise a warning, it can be globally set and the warning suppressed.\n",
      "  naver_data.to_excel('./data/naver.xls')\n"
     ]
    }
   ],
   "source": [
    "# 원하는 경로를 설정하여 저장\n",
    "naver_data.to_excel('./data/naver.xls')"
   ]
  },
  {
   "cell_type": "code",
   "execution_count": null,
   "id": "7cad78b6",
   "metadata": {},
   "outputs": [],
   "source": []
  }
 ],
 "metadata": {
  "kernelspec": {
   "display_name": "Python 3",
   "language": "python",
   "name": "python3"
  },
  "language_info": {
   "codemirror_mode": {
    "name": "ipython",
    "version": 3
   },
   "file_extension": ".py",
   "mimetype": "text/x-python",
   "name": "python",
   "nbconvert_exporter": "python",
   "pygments_lexer": "ipython3",
   "version": "3.8.8"
  }
 },
 "nbformat": 4,
 "nbformat_minor": 5
}
